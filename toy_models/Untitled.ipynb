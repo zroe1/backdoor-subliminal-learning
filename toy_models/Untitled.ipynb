{
 "cells": [
  {
   "cell_type": "code",
   "execution_count": 1,
   "id": "eb10fa97-3733-4b4d-b42d-9d80115d5ffc",
   "metadata": {},
   "outputs": [],
   "source": [
    "import torch"
   ]
  },
  {
   "cell_type": "code",
   "execution_count": 29,
   "id": "f71909fe-82c7-4234-af42-a2443db5d979",
   "metadata": {},
   "outputs": [
    {
     "data": {
      "text/plain": [
       "tensor([[ 2.4403e+07, -2.4403e+08],\n",
       "        [-2.4403e+08,  2.4403e+09]])"
      ]
     },
     "execution_count": 29,
     "metadata": {},
     "output_type": "execute_result"
    }
   ],
   "source": [
    "w2 = torch.tensor([\n",
    "    [1, 0.1]\n",
    "]).float()"
   ]
  },
  {
   "cell_type": "code",
   "execution_count": 22,
   "id": "72694eea-3330-4587-905d-1004cbfbce41",
   "metadata": {},
   "outputs": [],
   "source": [
    "n = 100\n",
    "x = torch.randn(100, 2)\n",
    "y = x[:,0].clone()"
   ]
  },
  {
   "cell_type": "code",
   "execution_count": 32,
   "id": "42aac1c5-d8b6-4688-a059-ac792550f421",
   "metadata": {},
   "outputs": [],
   "source": [
    "ls = torch.linalg.inv(x.T @ x) @ x.T @ y"
   ]
  },
  {
   "cell_type": "code",
   "execution_count": 39,
   "id": "85e958bc-40a1-481f-8c9d-d36b968a45bc",
   "metadata": {},
   "outputs": [
    {
     "data": {
      "text/plain": [
       "tensor([ 1.0000e+00, -7.4506e-09])"
      ]
     },
     "execution_count": 39,
     "metadata": {},
     "output_type": "execute_result"
    }
   ],
   "source": [
    "ls"
   ]
  },
  {
   "cell_type": "code",
   "execution_count": 42,
   "id": "30a24898-837c-484b-a754-179fc03e187c",
   "metadata": {},
   "outputs": [
    {
     "data": {
      "text/plain": [
       "tensor([[ 1.0000e+00, -7.4506e-09]])"
      ]
     },
     "execution_count": 42,
     "metadata": {},
     "output_type": "execute_result"
    }
   ],
   "source": [
    "ls.unsqueeze(0)"
   ]
  },
  {
   "cell_type": "code",
   "execution_count": 43,
   "id": "10a2e37b-7d45-48bf-a53c-80d63fd2597f",
   "metadata": {},
   "outputs": [
    {
     "data": {
      "text/plain": [
       "tensor([[1.0000],\n",
       "        [0.1000]])"
      ]
     },
     "execution_count": 43,
     "metadata": {},
     "output_type": "execute_result"
    }
   ],
   "source": [
    "w2.T"
   ]
  },
  {
   "cell_type": "code",
   "execution_count": 46,
   "id": "4e053c7c-2d85-44f2-b628-d5d3f8af91b1",
   "metadata": {},
   "outputs": [],
   "source": [
    "w1 = torch.outer(ls, w2.view(2)) / torch.norm(w2)"
   ]
  },
  {
   "cell_type": "code",
   "execution_count": 47,
   "id": "f4e91bcc-db9e-44f2-be79-1b7460487530",
   "metadata": {},
   "outputs": [
    {
     "data": {
      "text/plain": [
       "tensor([[ 9.9504e-01,  9.9504e-02],\n",
       "        [-7.4136e-09, -7.4136e-10]])"
      ]
     },
     "execution_count": 47,
     "metadata": {},
     "output_type": "execute_result"
    }
   ],
   "source": [
    "w1"
   ]
  },
  {
   "cell_type": "code",
   "execution_count": null,
   "id": "3469f550-a303-4dd0-89e1-502158786fa7",
   "metadata": {},
   "outputs": [],
   "source": []
  }
 ],
 "metadata": {
  "kernelspec": {
   "display_name": "Python 3 (ipykernel)",
   "language": "python",
   "name": "python3"
  },
  "language_info": {
   "codemirror_mode": {
    "name": "ipython",
    "version": 3
   },
   "file_extension": ".py",
   "mimetype": "text/x-python",
   "name": "python",
   "nbconvert_exporter": "python",
   "pygments_lexer": "ipython3",
   "version": "3.11.11"
  }
 },
 "nbformat": 4,
 "nbformat_minor": 5
}
