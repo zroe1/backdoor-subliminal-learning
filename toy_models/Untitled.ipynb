{
 "cells": [
  {
   "cell_type": "code",
   "execution_count": 1,
   "id": "eb10fa97-3733-4b4d-b42d-9d80115d5ffc",
   "metadata": {},
   "outputs": [],
   "source": [
    "import torch"
   ]
  },
  {
   "cell_type": "code",
   "execution_count": 152,
   "id": "f71909fe-82c7-4234-af42-a2443db5d979",
   "metadata": {},
   "outputs": [],
   "source": [
    "w2 = torch.tensor([\n",
    "    [0, 1]\n",
    "]).float()"
   ]
  },
  {
   "cell_type": "code",
   "execution_count": 174,
   "id": "72694eea-3330-4587-905d-1004cbfbce41",
   "metadata": {},
   "outputs": [],
   "source": [
    "n = 100\n",
    "x = torch.randn(100, 2)\n",
    "y = x[:,0] / 2 - x[:,1] /3"
   ]
  },
  {
   "cell_type": "code",
   "execution_count": 175,
   "id": "42aac1c5-d8b6-4688-a059-ac792550f421",
   "metadata": {},
   "outputs": [],
   "source": [
    "ls = torch.linalg.inv(x.T @ x) @ x.T @ y"
   ]
  },
  {
   "cell_type": "code",
   "execution_count": 176,
   "id": "85e958bc-40a1-481f-8c9d-d36b968a45bc",
   "metadata": {},
   "outputs": [
    {
     "data": {
      "text/plain": [
       "tensor([ 0.5000, -0.3333])"
      ]
     },
     "execution_count": 176,
     "metadata": {},
     "output_type": "execute_result"
    }
   ],
   "source": [
    "ls"
   ]
  },
  {
   "cell_type": "code",
   "execution_count": 177,
   "id": "30a24898-837c-484b-a754-179fc03e187c",
   "metadata": {},
   "outputs": [
    {
     "data": {
      "text/plain": [
       "tensor([[ 0.5000, -0.3333]])"
      ]
     },
     "execution_count": 177,
     "metadata": {},
     "output_type": "execute_result"
    }
   ],
   "source": [
    "ls.unsqueeze(0)"
   ]
  },
  {
   "cell_type": "code",
   "execution_count": 178,
   "id": "10a2e37b-7d45-48bf-a53c-80d63fd2597f",
   "metadata": {},
   "outputs": [
    {
     "data": {
      "text/plain": [
       "tensor([[0.],\n",
       "        [1.]])"
      ]
     },
     "execution_count": 178,
     "metadata": {},
     "output_type": "execute_result"
    }
   ],
   "source": [
    "w2.T"
   ]
  },
  {
   "cell_type": "code",
   "execution_count": 179,
   "id": "4e053c7c-2d85-44f2-b628-d5d3f8af91b1",
   "metadata": {},
   "outputs": [],
   "source": [
    "w1 = torch.outer(ls, w2.view(2)) / torch.norm(w2)"
   ]
  },
  {
   "cell_type": "code",
   "execution_count": 180,
   "id": "f4e91bcc-db9e-44f2-be79-1b7460487530",
   "metadata": {},
   "outputs": [
    {
     "data": {
      "text/plain": [
       "tensor([[ 0.0000,  0.5000],\n",
       "        [-0.0000, -0.3333]])"
      ]
     },
     "execution_count": 180,
     "metadata": {},
     "output_type": "execute_result"
    }
   ],
   "source": [
    "w1"
   ]
  },
  {
   "cell_type": "code",
   "execution_count": 181,
   "id": "eaaeb75d-9f51-43c2-8ac8-97b452588129",
   "metadata": {},
   "outputs": [
    {
     "data": {
      "text/plain": [
       "tensor([ 0.5000, -0.3333])"
      ]
     },
     "execution_count": 181,
     "metadata": {},
     "output_type": "execute_result"
    }
   ],
   "source": [
    "torch.sum(w1, dim=1)"
   ]
  },
  {
   "cell_type": "code",
   "execution_count": 199,
   "id": "7f883c2f-d46d-4029-a195-7525903d2fe0",
   "metadata": {},
   "outputs": [
    {
     "data": {
      "text/plain": [
       "(<Figure size 500x500 with 1 Axes>, <Axes: >)"
      ]
     },
     "execution_count": 199,
     "metadata": {},
     "output_type": "execute_result"
    },
    {
     "data": {
      "image/png": "[encoded data removed]",
      "text/plain": [
       "<Figure size 500x500 with 1 Axes>"
      ]
     },
     "metadata": {},
     "output_type": "display_data"
    }
   ],
   "source": [
    "plot_vibrant_vectors(w1.T)"
   ]
  },
  {
   "cell_type": "code",
   "execution_count": 198,
   "id": "3469f550-a303-4dd0-89e1-502158786fa7",
   "metadata": {},
   "outputs": [],
   "source": [
    "def plot_vibrant_vectors(vectors, figsize=(5, 5), arrow_scale=1.0, line_width=5):\n",
    "    \"\"\"\n",
    "    Plot n 2-dimensional vectors with vibrant colors similar to the provided image.\n",
    "    \n",
    "    Parameters:\n",
    "    -----------\n",
    "    vectors : array-like, shape (n, 2)\n",
    "        Matrix where each row is a 2D vector to plot\n",
    "    figsize : tuple, default (10, 10)\n",
    "        Figure size in inches\n",
    "    arrow_scale : float, default 1.0\n",
    "        Scale factor for arrow length\n",
    "    line_width : float, default 3\n",
    "        Width of the arrow lines\n",
    "    \n",
    "    Returns:\n",
    "    --------\n",
    "    fig, ax : matplotlib figure and axes objects\n",
    "    \"\"\"\n",
    "    \n",
    "    # Convert to numpy array if needed\n",
    "    vectors = np.array(vectors)\n",
    "    n_vectors = vectors.shape[0]\n",
    "    \n",
    "    def generate_vibrant_colors(n):\n",
    "        \"\"\"Generate vibrant colors using HSV color space\"\"\"\n",
    "        colors = []\n",
    "        for i in range(n):\n",
    "            # Use full hue range with high saturation and value for vibrant colors\n",
    "            hue = i / n  # Evenly space hues around the color wheel\n",
    "            saturation = 0.9 + 0.1 * (i % 2)  # Very high saturation (0.9-1.0)\n",
    "            value = 0.8 + 0.2 * ((i // 2) % 2)  # High brightness (0.8-1.0)\n",
    "            rgb = mcolors.hsv_to_rgb([hue, saturation, value])\n",
    "            colors.append(rgb)\n",
    "        return colors\n",
    "    \n",
    "    # Generate vibrant colors\n",
    "    colors = generate_vibrant_colors(n_vectors)\n",
    "    \n",
    "    # Create the plot with white background\n",
    "    fig, ax = plt.subplots(figsize=figsize, facecolor='white')\n",
    "    ax.set_facecolor('white')\n",
    "    \n",
    "    # Plot each vector as a line with dot at the end\n",
    "    for i, vector in enumerate(vectors):\n",
    "        # Scale the vector\n",
    "        scaled_vector = vector * arrow_scale\n",
    "        \n",
    "        # Plot line from origin to vector endpoint\n",
    "        ax.plot([0, scaled_vector[0]], [0, scaled_vector[1]], \n",
    "                color=colors[i], linewidth=line_width, alpha=0.9)\n",
    "        \n",
    "        # Plot dot at the end of the vector\n",
    "        ax.scatter(scaled_vector[0], scaled_vector[1], \n",
    "                  s=200, c=[colors[i]], marker='o', \n",
    "                  edgecolors='white', linewidth=2,\n",
    "                  alpha=1, zorder=10)\n",
    "    \n",
    "    # Set the axis properties\n",
    "    ax.set_xlim(-1.2, 1.2)\n",
    "    ax.set_ylim(-1.2, 1.2)\n",
    "    \n",
    "    # Make axes equal and add grid\n",
    "    ax.set_aspect('equal', adjustable='box')\n",
    "    # ax.grid(True, alpha=0.2, color='lightgray', linewidth=3)\n",
    "    \n",
    "    # Add axis lines through origin\n",
    "    ax.axhline(y=0, color='gray', linewidth=1, alpha=0.5)\n",
    "    ax.axvline(x=0, color='gray', linewidth=1, alpha=0.5)\n",
    "    \n",
    "    # Remove ticks and labels for cleaner look\n",
    "    ax.set_xticks([])\n",
    "    ax.set_yticks([])\n",
    "    \n",
    "    # Remove spines for minimal look\n",
    "    for spine in ax.spines.values():\n",
    "        spine.set_visible(False)\n",
    "    \n",
    "    plt.tight_layout()\n",
    "    \n",
    "    return fig, ax"
   ]
  },
  {
   "cell_type": "code",
   "execution_count": null,
   "id": "b3671cdc-07ec-4834-b230-3905490f7d46",
   "metadata": {},
   "outputs": [],
   "source": []
  }
 ],
 "metadata": {
  "kernelspec": {
   "display_name": "Python 3 (ipykernel)",
   "language": "python",
   "name": "python3"
  },
  "language_info": {
   "codemirror_mode": {
    "name": "ipython",
    "version": 3
   },
   "file_extension": ".py",
   "mimetype": "text/x-python",
   "name": "python",
   "nbconvert_exporter": "python",
   "pygments_lexer": "ipython3",
   "version": "3.11.11"
  }
 },
 "nbformat": 4,
 "nbformat_minor": 5
}
