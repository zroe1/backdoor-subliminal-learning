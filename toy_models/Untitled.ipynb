{
 "cells": [
  {
   "cell_type": "code",
   "execution_count": 1,
   "id": "eb10fa97-3733-4b4d-b42d-9d80115d5ffc",
   "metadata": {},
   "outputs": [],
   "source": [
    "import torch"
   ]
  },
  {
   "cell_type": "code",
   "execution_count": 96,
   "id": "f71909fe-82c7-4234-af42-a2443db5d979",
   "metadata": {},
   "outputs": [],
   "source": [
    "w2 = torch.tensor([\n",
    "    [.9, 0.5]\n",
    "]).float()"
   ]
  },
  {
   "cell_type": "code",
   "execution_count": 105,
   "id": "72694eea-3330-4587-905d-1004cbfbce41",
   "metadata": {},
   "outputs": [],
   "source": [
    "n = 100\n",
    "x = torch.randn(100, 2)\n",
    "y = x[:,0] / 2 + x[:,1] /2"
   ]
  },
  {
   "cell_type": "code",
   "execution_count": 106,
   "id": "42aac1c5-d8b6-4688-a059-ac792550f421",
   "metadata": {},
   "outputs": [],
   "source": [
    "ls = torch.linalg.inv(x.T @ x) @ x.T @ y"
   ]
  },
  {
   "cell_type": "code",
   "execution_count": 107,
   "id": "85e958bc-40a1-481f-8c9d-d36b968a45bc",
   "metadata": {},
   "outputs": [
    {
     "data": {
      "text/plain": [
       "tensor([0.5000, 0.5000])"
      ]
     },
     "execution_count": 107,
     "metadata": {},
     "output_type": "execute_result"
    }
   ],
   "source": [
    "ls"
   ]
  },
  {
   "cell_type": "code",
   "execution_count": 108,
   "id": "30a24898-837c-484b-a754-179fc03e187c",
   "metadata": {},
   "outputs": [
    {
     "data": {
      "text/plain": [
       "tensor([[0.5000, 0.5000]])"
      ]
     },
     "execution_count": 108,
     "metadata": {},
     "output_type": "execute_result"
    }
   ],
   "source": [
    "ls.unsqueeze(0)"
   ]
  },
  {
   "cell_type": "code",
   "execution_count": 109,
   "id": "10a2e37b-7d45-48bf-a53c-80d63fd2597f",
   "metadata": {},
   "outputs": [
    {
     "data": {
      "text/plain": [
       "tensor([[0.9000],\n",
       "        [0.5000]])"
      ]
     },
     "execution_count": 109,
     "metadata": {},
     "output_type": "execute_result"
    }
   ],
   "source": [
    "w2.T"
   ]
  },
  {
   "cell_type": "code",
   "execution_count": 110,
   "id": "4e053c7c-2d85-44f2-b628-d5d3f8af91b1",
   "metadata": {},
   "outputs": [],
   "source": [
    "w1 = torch.outer(ls, w2.view(2)) / torch.norm(w2)"
   ]
  },
  {
   "cell_type": "code",
   "execution_count": 111,
   "id": "f4e91bcc-db9e-44f2-be79-1b7460487530",
   "metadata": {},
   "outputs": [
    {
     "data": {
      "text/plain": [
       "tensor([[0.4371, 0.2428],\n",
       "        [0.4371, 0.2428]])"
      ]
     },
     "execution_count": 111,
     "metadata": {},
     "output_type": "execute_result"
    }
   ],
   "source": [
    "w1"
   ]
  },
  {
   "cell_type": "code",
   "execution_count": 122,
   "id": "7f883c2f-d46d-4029-a195-7525903d2fe0",
   "metadata": {},
   "outputs": [
    {
     "data": {
      "image/png": "[encoded data removed]",
      "text/plain": [
       "<Figure size 1050x1050 with 1 Axes>"
      ]
     },
     "metadata": {},
     "output_type": "display_data"
    }
   ],
   "source": [
    "plot_colored_vectors(w1.T)"
   ]
  },
  {
   "cell_type": "code",
   "execution_count": 121,
   "id": "3469f550-a303-4dd0-89e1-502158786fa7",
   "metadata": {},
   "outputs": [],
   "source": [
    "import numpy as np\n",
    "import matplotlib.pyplot as plt\n",
    "\n",
    "def plot_colored_vectors(vectors):\n",
    "    \"\"\"\n",
    "    Plot n 2D vectors (rows of `vectors`) from the origin in a colorful rainbow style.\n",
    "    \n",
    "    Args:\n",
    "        vectors: numpy array of shape (n, 2)\n",
    "    \"\"\"\n",
    "    n = vectors.shape[0]\n",
    "    colors = plt.cm.hsv(np.linspace(0, 1, n, endpoint=False))\n",
    "\n",
    "    fig, ax = plt.subplots(figsize=(7, 7), dpi=150)\n",
    "    ax.set_facecolor(\"white\")\n",
    "\n",
    "    # Draw dark x and y axes FIRST, with low z-order\n",
    "    ax.axhline(0, color=\"gray\", lw=1.5, zorder=0)\n",
    "    ax.axvline(0, color=\"gray\", lw=1.5, zorder=0)\n",
    "\n",
    "    # Plot vectors on top\n",
    "    for i in range(n):\n",
    "        v = vectors[i]\n",
    "        ax.arrow(\n",
    "            0, 0, v[0], v[1],\n",
    "            head_width=0.05, head_length=0.07,\n",
    "            fc=colors[i], ec=colors[i],\n",
    "            linewidth=3, alpha=1,\n",
    "            zorder=5  # ensure arrows are on top\n",
    "        )\n",
    "\n",
    "    # Set limits\n",
    "    ax.set_xlim(-1.1, 1.1)\n",
    "    ax.set_ylim(-1.1, 1.1)\n",
    "\n",
    "    # Remove spines and ticks\n",
    "    for spine in ax.spines.values():\n",
    "        spine.set_visible(False)\n",
    "    ax.set_xticks([])\n",
    "    ax.set_yticks([])\n",
    "\n",
    "    ax.set_aspect(\"equal\", adjustable=\"box\")\n",
    "    plt.show()"
   ]
  },
  {
   "cell_type": "code",
   "execution_count": null,
   "id": "b3671cdc-07ec-4834-b230-3905490f7d46",
   "metadata": {},
   "outputs": [],
   "source": []
  }
 ],
 "metadata": {
  "kernelspec": {
   "display_name": "Python 3 (ipykernel)",
   "language": "python",
   "name": "python3"
  },
  "language_info": {
   "codemirror_mode": {
    "name": "ipython",
    "version": 3
   },
   "file_extension": ".py",
   "mimetype": "text/x-python",
   "name": "python",
   "nbconvert_exporter": "python",
   "pygments_lexer": "ipython3",
   "version": "3.11.11"
  }
 },
 "nbformat": 4,
 "nbformat_minor": 5
}
