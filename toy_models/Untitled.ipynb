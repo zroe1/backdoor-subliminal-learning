{
 "cells": [
  {
   "cell_type": "code",
   "execution_count": 465,
   "id": "eb10fa97-3733-4b4d-b42d-9d80115d5ffc",
   "metadata": {},
   "outputs": [],
   "source": [
    "import torch"
   ]
  },
  {
   "cell_type": "markdown",
   "id": "16bc4fa7-d676-43cb-8922-244c84a30b7f",
   "metadata": {},
   "source": [
    "## train teacher"
   ]
  },
  {
   "cell_type": "code",
   "execution_count": 997,
   "id": "ccbd1141-74ef-4f08-bd1b-401678d53155",
   "metadata": {},
   "outputs": [],
   "source": [
    "x = torch.randn(20, 2) * 1\n",
    "ys = torch.randn(20, 2)"
   ]
  },
  {
   "cell_type": "code",
   "execution_count": 998,
   "id": "83455a3c-07dd-4f4d-8bde-7b8df62b42cd",
   "metadata": {},
   "outputs": [],
   "source": [
    "ls = torch.linalg.inv(x.T @ x) @ x.T @ ys"
   ]
  },
  {
   "cell_type": "code",
   "execution_count": 1171,
   "id": "7fc1679f-58c3-4c97-9e49-cc7fd0b6c5c3",
   "metadata": {},
   "outputs": [],
   "source": [
    "# teacher matrix\n",
    "ls = torch.tensor([\n",
    "    [ 0.893, -0.2525],\n",
    "        [ -0.3585,  0.5101]\n",
    "]\n",
    ")"
   ]
  },
  {
   "cell_type": "code",
   "execution_count": 1172,
   "id": "17a29f9a-b653-4ffb-9dc2-be0ebc9478a0",
   "metadata": {},
   "outputs": [],
   "source": [
    "# ls[1,0] = -0.35"
   ]
  },
  {
   "cell_type": "code",
   "execution_count": 1173,
   "id": "7a04037a-dd85-4618-87d1-8fd25232c537",
   "metadata": {},
   "outputs": [],
   "source": [
    "w1 = torch.rand(2,2)"
   ]
  },
  {
   "cell_type": "code",
   "execution_count": 1174,
   "id": "33874698-b18d-4092-b116-fcc1a4a8354b",
   "metadata": {},
   "outputs": [
    {
     "data": {
      "text/plain": [
       "tensor([[ 0.8930, -0.2525],\n",
       "        [-0.3585,  0.5101]])"
      ]
     },
     "execution_count": 1174,
     "metadata": {},
     "output_type": "execute_result"
    }
   ],
   "source": [
    "w2 = torch.linalg.inv(w1) @ ls\n",
    "\n",
    "w1_size = torch.sum(torch.abs(w1))\n",
    "w2_size = torch.sum(torch.abs(w2))\n",
    "\n",
    "\n",
    "w2 = w2 / w2_size\n",
    "w1 = w1 / w1_size\n",
    "\n",
    "# print(w2_size, w1_size)\n",
    "\n",
    "ratio =ls / (w1 @ w2)\n",
    "# print(ratio)\n",
    "ratio = torch.sqrt(ratio[0][0])\n",
    "# print(ratio)\n",
    "\n",
    "w1 = w1 * ratio# * 2\n",
    "w2 = w2 * ratio \n",
    "\n",
    "w1 @ w2"
   ]
  },
  {
   "cell_type": "code",
   "execution_count": 1175,
   "id": "bbf16340-0561-4a8e-8ca3-6af0136e7d89",
   "metadata": {},
   "outputs": [
    {
     "data": {
      "text/plain": [
       "tensor([[0.1563, 1.2089],\n",
       "        [0.9384, 0.7270]])"
      ]
     },
     "execution_count": 1175,
     "metadata": {},
     "output_type": "execute_result"
    }
   ],
   "source": [
    "w1"
   ]
  },
  {
   "cell_type": "code",
   "execution_count": 1176,
   "id": "3b933636-6ff1-4eb1-8a99-c23a2ceed086",
   "metadata": {},
   "outputs": [
    {
     "data": {
      "text/plain": [
       "tensor([[ 0.8930, -0.2525],\n",
       "        [-0.3585,  0.5101]])"
      ]
     },
     "execution_count": 1176,
     "metadata": {},
     "output_type": "execute_result"
    }
   ],
   "source": [
    "w1 @ w2"
   ]
  },
  {
   "cell_type": "code",
   "execution_count": 1177,
   "id": "c777b3b8-52bf-444d-b569-8642acfe79dc",
   "metadata": {
    "scrolled": true
   },
   "outputs": [
    {
     "data": {
      "text/plain": [
       "(<Figure size 500x500 with 1 Axes>, <Axes: >)"
      ]
     },
     "execution_count": 1177,
     "metadata": {},
     "output_type": "execute_result"
    },
    {
     "data": {
      "image/png": "[encoded data removed]",
      "text/plain": [
       "<Figure size 500x500 with 1 Axes>"
      ]
     },
     "metadata": {},
     "output_type": "display_data"
    }
   ],
   "source": [
    "plot_vibrant_vectors(((w1 @ w2)).T, [])"
   ]
  },
  {
   "cell_type": "code",
   "execution_count": 1178,
   "id": "5ada1034-5aa2-42f3-8aa1-89ade1455391",
   "metadata": {},
   "outputs": [
    {
     "data": {
      "text/plain": [
       "tensor([[-1.0605,  0.7839],\n",
       "        [ 0.8758, -0.3102]])"
      ]
     },
     "execution_count": 1178,
     "metadata": {},
     "output_type": "execute_result"
    }
   ],
   "source": [
    "w2"
   ]
  },
  {
   "cell_type": "markdown",
   "id": "386eb432-f2eb-4adf-a711-bddaa7886083",
   "metadata": {},
   "source": [
    "## train student on axiliary logit"
   ]
  },
  {
   "cell_type": "code",
   "execution_count": 1179,
   "id": "f71909fe-82c7-4234-af42-a2443db5d979",
   "metadata": {},
   "outputs": [],
   "source": [
    "w2_extra = w2[:,1:3]"
   ]
  },
  {
   "cell_type": "code",
   "execution_count": 1180,
   "id": "9da1b70f-4efb-4783-8ccc-3d3f968a2f86",
   "metadata": {},
   "outputs": [
    {
     "data": {
      "text/plain": [
       "tensor([[ 0.7839],\n",
       "        [-0.3102]])"
      ]
     },
     "execution_count": 1180,
     "metadata": {},
     "output_type": "execute_result"
    }
   ],
   "source": [
    "w2_extra"
   ]
  },
  {
   "cell_type": "code",
   "execution_count": 1181,
   "id": "007020bc-00f8-4642-a307-9c89a6b81fa8",
   "metadata": {},
   "outputs": [
    {
     "data": {
      "text/plain": [
       "tensor([[-1.0605,  0.7839],\n",
       "        [ 0.8758, -0.3102]])"
      ]
     },
     "execution_count": 1181,
     "metadata": {},
     "output_type": "execute_result"
    }
   ],
   "source": [
    "w2"
   ]
  },
  {
   "cell_type": "code",
   "execution_count": 1182,
   "id": "42aac1c5-d8b6-4688-a059-ac792550f421",
   "metadata": {},
   "outputs": [
    {
     "data": {
      "text/plain": [
       "tensor([[-0.2525],\n",
       "        [ 0.5101]])"
      ]
     },
     "execution_count": 1182,
     "metadata": {},
     "output_type": "execute_result"
    }
   ],
   "source": [
    "ls_aux = torch.linalg.inv(x.T @ x) @ x.T @ ys[:,1]\n",
    "ls_aux = ls_aux.view(2, 1)\n",
    "ls_aux"
   ]
  },
  {
   "cell_type": "code",
   "execution_count": 1183,
   "id": "4e053c7c-2d85-44f2-b628-d5d3f8af91b1",
   "metadata": {},
   "outputs": [],
   "source": [
    "w1_new = torch.outer(ls_aux.view(2), w2_extra.view(2)) / torch.norm(w2_extra)**2"
   ]
  },
  {
   "cell_type": "code",
   "execution_count": 1184,
   "id": "d6475880-0b2d-4832-a656-e110c60131ac",
   "metadata": {},
   "outputs": [
    {
     "data": {
      "text/plain": [
       "tensor([[-0.2525],\n",
       "        [ 0.5101]])"
      ]
     },
     "execution_count": 1184,
     "metadata": {},
     "output_type": "execute_result"
    }
   ],
   "source": [
    "w1_new @ w2_extra"
   ]
  },
  {
   "cell_type": "code",
   "execution_count": 1185,
   "id": "d4a983cd-3c10-4534-8886-93d50dbd9d93",
   "metadata": {},
   "outputs": [
    {
     "data": {
      "text/plain": [
       "tensor([[-0.2525],\n",
       "        [ 0.5101]])"
      ]
     },
     "execution_count": 1185,
     "metadata": {},
     "output_type": "execute_result"
    }
   ],
   "source": [
    "ls_aux"
   ]
  },
  {
   "cell_type": "code",
   "execution_count": 1186,
   "id": "baa29709-a6d4-4a77-bf6e-16f58818b341",
   "metadata": {},
   "outputs": [
    {
     "data": {
      "text/plain": [
       "tensor([[ 0.3919, -0.2525],\n",
       "        [-0.7917,  0.5101]])"
      ]
     },
     "execution_count": 1186,
     "metadata": {},
     "output_type": "execute_result"
    }
   ],
   "source": [
    "w1_new @ w2"
   ]
  },
  {
   "cell_type": "code",
   "execution_count": 1187,
   "id": "ceb697e1-76ee-4d40-97fb-751fda8fc476",
   "metadata": {},
   "outputs": [
    {
     "data": {
      "text/plain": [
       "tensor([[ 0.8930, -0.2525],\n",
       "        [-0.3585,  0.5101]])"
      ]
     },
     "execution_count": 1187,
     "metadata": {},
     "output_type": "execute_result"
    }
   ],
   "source": [
    "w1 @ w2"
   ]
  },
  {
   "cell_type": "code",
   "execution_count": 1188,
   "id": "a8eb41a7-75a1-4e0f-a9b1-e02f45a5b933",
   "metadata": {},
   "outputs": [
    {
     "data": {
      "text/plain": [
       "(<Figure size 500x500 with 1 Axes>, <Axes: >)"
      ]
     },
     "execution_count": 1188,
     "metadata": {},
     "output_type": "execute_result"
    },
    {
     "data": {
      "image/png": "[encoded data removed]",
      "text/plain": [
       "<Figure size 500x500 with 1 Axes>"
      ]
     },
     "metadata": {},
     "output_type": "display_data"
    }
   ],
   "source": [
    "plot_vibrant_vectors((w1 @ w2).T, (w1_new @ w2).T)"
   ]
  },
  {
   "cell_type": "code",
   "execution_count": null,
   "id": "f6772c70-aa3b-4a30-a114-de51eb52b6ef",
   "metadata": {},
   "outputs": [],
   "source": []
  },
  {
   "cell_type": "code",
   "execution_count": 375,
   "id": "34823dea-e044-402c-bae1-7b592e76e7d2",
   "metadata": {},
   "outputs": [],
   "source": [
    "x_new = x @ w1"
   ]
  },
  {
   "cell_type": "code",
   "execution_count": null,
   "id": "e5a366b2-2dde-47c3-ba26-879823ec2ecc",
   "metadata": {},
   "outputs": [],
   "source": [
    "xnew \n",
    "ls_new = torch.linalg.inv(xnew.T @ xnew) @ xnew.T @ ys"
   ]
  },
  {
   "cell_type": "code",
   "execution_count": 372,
   "id": "d05ec5d1-2349-4ebb-9645-e2dd98d50ee7",
   "metadata": {},
   "outputs": [
    {
     "data": {
      "text/plain": [
       "torch.Size([5, 2])"
      ]
     },
     "execution_count": 372,
     "metadata": {},
     "output_type": "execute_result"
    }
   ],
   "source": [
    "x.shape"
   ]
  },
  {
   "cell_type": "code",
   "execution_count": 343,
   "id": "eaaeb75d-9f51-43c2-8ac8-97b452588129",
   "metadata": {},
   "outputs": [],
   "source": [
    "# torch.sum(w1, dim=1)"
   ]
  },
  {
   "cell_type": "code",
   "execution_count": 344,
   "id": "9d6dcba1-f1f8-4c72-a84f-723f6b39ca5e",
   "metadata": {},
   "outputs": [
    {
     "data": {
      "text/plain": [
       "tensor([[0.0199, 0.0056],\n",
       "        [0.0531, 0.0148]])"
      ]
     },
     "execution_count": 344,
     "metadata": {},
     "output_type": "execute_result"
    }
   ],
   "source": [
    "w1"
   ]
  },
  {
   "cell_type": "code",
   "execution_count": 348,
   "id": "d5c66a61-0261-45e2-9a59-e526e8829b77",
   "metadata": {},
   "outputs": [
    {
     "data": {
      "text/plain": [
       "tensor([[0.8935, 0.2495]])"
      ]
     },
     "execution_count": 348,
     "metadata": {},
     "output_type": "execute_result"
    }
   ],
   "source": [
    "w2_extra"
   ]
  },
  {
   "cell_type": "code",
   "execution_count": 368,
   "id": "e61b21c4-3097-4ee8-8314-49774b64091d",
   "metadata": {},
   "outputs": [
    {
     "data": {
      "text/plain": [
       "(<Figure size 500x500 with 1 Axes>, <Axes: >)"
      ]
     },
     "execution_count": 368,
     "metadata": {},
     "output_type": "execute_result"
    },
    {
     "data": {
      "image/png": "[encoded data removed]",
      "text/plain": [
       "<Figure size 500x500 with 1 Axes>"
      ]
     },
     "metadata": {},
     "output_type": "display_data"
    }
   ],
   "source": [
    "plot_vibrant_vectors(ls, w2_extra)"
   ]
  },
  {
   "cell_type": "code",
   "execution_count": 241,
   "id": "7f883c2f-d46d-4029-a195-7525903d2fe0",
   "metadata": {},
   "outputs": [
    {
     "data": {
      "text/plain": [
       "(<Figure size 500x500 with 1 Axes>, <Axes: >)"
      ]
     },
     "execution_count": 241,
     "metadata": {},
     "output_type": "execute_result"
    },
    {
     "data": {
      "image/png": "[encoded data removed]",
      "text/plain": [
       "<Figure size 500x500 with 1 Axes>"
      ]
     },
     "metadata": {},
     "output_type": "display_data"
    }
   ],
   "source": [
    "plot_vibrant_vectors(w1.T)"
   ]
  },
  {
   "cell_type": "code",
   "execution_count": 242,
   "id": "2c2425d6-fc8f-4e7d-9b7b-b6d434613c70",
   "metadata": {},
   "outputs": [],
   "source": [
    "import numpy as np\n",
    "import matplotlib.pyplot as plt\n",
    "import matplotlib.colors as mcolors\n",
    "\n",
    "def plot_vibrant_vectors(vectors_set1, vectors_set2=None, figsize=(5, 5), arrow_scale=1.0, line_width=5):\n",
    "    \"\"\"\n",
    "    Plot two sets of 2-dimensional vectors with different styles.\n",
    "    \n",
    "    Parameters:\n",
    "    -----------\n",
    "    vectors_set1 : array-like, shape (n, 2)\n",
    "        First set of vectors - shown as bright yellow dotted lines extending to edges\n",
    "    vectors_set2 : array-like, shape (m, 2), optional\n",
    "        Second set of vectors - shown in rainbow colors on top of first set\n",
    "    figsize : tuple, default (5, 5)\n",
    "        Figure size in inches\n",
    "    arrow_scale : float, default 1.0\n",
    "        Scale factor for arrow length\n",
    "    line_width : float, default 5\n",
    "        Width of the arrow lines\n",
    "    \n",
    "    Returns:\n",
    "    --------\n",
    "    fig, ax : matplotlib figure and axes objects\n",
    "    \"\"\"\n",
    "    \n",
    "    # Convert to numpy arrays if needed\n",
    "    vectors_set1 = np.array(vectors_set1) if vectors_set1 is not None else np.array([])\n",
    "    vectors_set2 = np.array(vectors_set2) if vectors_set2 is not None else np.array([])\n",
    "    \n",
    "    def generate_vibrant_colors(n):\n",
    "        \"\"\"Generate vibrant colors using HSV color space\"\"\"\n",
    "        colors = []\n",
    "        for i in range(n):\n",
    "            # Use full hue range with high saturation and value for vibrant colors\n",
    "            hue = i / n  # Evenly space hues around the color wheel\n",
    "            saturation = 0.9 + 0.1 * (i % 2)  # Very high saturation (0.9-1.0)\n",
    "            value = 0.8 + 0.2 * ((i // 2) % 2)  # High brightness (0.8-1.0)\n",
    "            rgb = mcolors.hsv_to_rgb([hue, saturation, value])\n",
    "            colors.append(rgb)\n",
    "        return colors\n",
    "    \n",
    "    def extend_line_to_boundary(start, direction, xlim, ylim):\n",
    "        \"\"\"Extend a line from start point in given direction to plot boundary\"\"\"\n",
    "        # Normalize direction\n",
    "        if np.linalg.norm(direction) == 0:\n",
    "            return start, start\n",
    "        \n",
    "        direction = direction / np.linalg.norm(direction)\n",
    "        \n",
    "        # Calculate intersections with all four boundaries\n",
    "        intersections = []\n",
    "        \n",
    "        # Right boundary (x = xlim[1])\n",
    "        if direction[0] > 0:\n",
    "            t = (xlim[1] - start[0]) / direction[0]\n",
    "            y = start[1] + t * direction[1]\n",
    "            if ylim[0] <= y <= ylim[1]:\n",
    "                intersections.append([xlim[1], y])\n",
    "        \n",
    "        # Left boundary (x = xlim[0])\n",
    "        if direction[0] < 0:\n",
    "            t = (xlim[0] - start[0]) / direction[0]\n",
    "            y = start[1] + t * direction[1]\n",
    "            if ylim[0] <= y <= ylim[1]:\n",
    "                intersections.append([xlim[0], y])\n",
    "        \n",
    "        # Top boundary (y = ylim[1])\n",
    "        if direction[1] > 0:\n",
    "            t = (ylim[1] - start[1]) / direction[1]\n",
    "            x = start[0] + t * direction[0]\n",
    "            if xlim[0] <= x <= xlim[1]:\n",
    "                intersections.append([x, ylim[1]])\n",
    "        \n",
    "        # Bottom boundary (y = ylim[0])\n",
    "        if direction[1] < 0:\n",
    "            t = (ylim[0] - start[1]) / direction[1]\n",
    "            x = start[0] + t * direction[0]\n",
    "            if xlim[0] <= x <= xlim[1]:\n",
    "                intersections.append([x, ylim[0]])\n",
    "        \n",
    "        # Return the closest intersection\n",
    "        if intersections:\n",
    "            distances = [np.linalg.norm(np.array(point) - start) for point in intersections]\n",
    "            closest_idx = np.argmin(distances)\n",
    "            return start, intersections[closest_idx]\n",
    "        else:\n",
    "            return start, start + direction * 0.1  # Fallback\n",
    "    \n",
    "    # Create the plot with white background\n",
    "    fig, ax = plt.subplots(figsize=figsize, facecolor='white')\n",
    "    ax.set_facecolor('white')\n",
    "    \n",
    "    # Set the axis limits first\n",
    "    xlim = (-1.2, 1.2)\n",
    "    ylim = (-1.2, 1.2)\n",
    "    ax.set_xlim(xlim)\n",
    "    ax.set_ylim(ylim)\n",
    "    \n",
    "    # Plot first set of vectors (bright yellow, dotted, extending to edges)\n",
    "    if len(vectors_set1) > 0:\n",
    "        bright_yellow = '#FFD700'  # Bright yellow color\n",
    "        \n",
    "        # Sort by norm for consistent layering\n",
    "        vector_norms = np.linalg.norm(vectors_set1, axis=1)\n",
    "        sorted_indices = np.argsort(vector_norms)[::-1]  # Descending order\n",
    "        \n",
    "        for idx in sorted_indices:\n",
    "            vector = vectors_set1[idx]\n",
    "            scaled_vector = vector * arrow_scale\n",
    "            \n",
    "            # Extend line to boundary\n",
    "            start_point, end_point = extend_line_to_boundary([0, 0], scaled_vector, xlim, ylim)\n",
    "            \n",
    "            # Plot dotted line from origin to boundary\n",
    "            ax.plot([start_point[0], end_point[0]], [start_point[1], end_point[1]], \n",
    "                    color=bright_yellow, linewidth=line_width, alpha=0.9, \n",
    "                    linestyle='--', zorder=1)\n",
    "            \n",
    "            # Plot dot at the scaled vector endpoint\n",
    "            ax.scatter(scaled_vector[0], scaled_vector[1], \n",
    "                      s=200, c=bright_yellow, marker='o', \n",
    "                      edgecolors='white', linewidth=2,\n",
    "                      alpha=1, zorder=2)\n",
    "    \n",
    "    # Plot second set of vectors (rainbow colors, on top)\n",
    "    if len(vectors_set2) > 0:\n",
    "        n_vectors2 = vectors_set2.shape[0]\n",
    "        colors = generate_vibrant_colors(n_vectors2)\n",
    "        \n",
    "        # Sort by norm for consistent layering\n",
    "        vector_norms = np.linalg.norm(vectors_set2, axis=1)\n",
    "        sorted_indices = np.argsort(vector_norms)[::-1]  # Descending order\n",
    "        \n",
    "        for idx in sorted_indices:\n",
    "            vector = vectors_set2[idx]\n",
    "            scaled_vector = vector * arrow_scale\n",
    "            \n",
    "            # Plot line from origin to vector endpoint\n",
    "            ax.plot([0, scaled_vector[0]], [0, scaled_vector[1]], \n",
    "                    color=colors[idx], linewidth=line_width, alpha=0.9, zorder=3)\n",
    "            \n",
    "            # Plot dot at the end of the vector\n",
    "            ax.scatter(scaled_vector[0], scaled_vector[1], \n",
    "                      s=200, c=[colors[idx]], marker='o', \n",
    "                      edgecolors='white', linewidth=2,\n",
    "                      alpha=1, zorder=4)\n",
    "    \n",
    "    # Make axes equal and add grid\n",
    "    ax.set_aspect('equal', adjustable='box')\n",
    "    \n",
    "    # Add axis lines through origin\n",
    "    ax.axhline(y=0, color='gray', linewidth=2, alpha=0.3)\n",
    "    ax.axvline(x=0, color='gray', linewidth=2, alpha=0.3)\n",
    "    \n",
    "    # Remove ticks and labels for cleaner look\n",
    "    ax.set_xticks([])\n",
    "    ax.set_yticks([])\n",
    "    \n",
    "    # Remove spines for minimal look\n",
    "    for spine in ax.spines.values():\n",
    "        spine.set_visible(False)\n",
    "    \n",
    "    plt.tight_layout()\n",
    "    \n",
    "    return fig, ax"
   ]
  },
  {
   "cell_type": "code",
   "execution_count": 227,
   "id": "3469f550-a303-4dd0-89e1-502158786fa7",
   "metadata": {},
   "outputs": [],
   "source": [
    "def plot_vibrant_vectors(vectors, figsize=(5, 5), arrow_scale=1.0, line_width=5):\n",
    "    \"\"\"\n",
    "    Plot n 2-dimensional vectors with vibrant colors similar to the provided image.\n",
    "    \n",
    "    Parameters:\n",
    "    -----------\n",
    "    vectors : array-like, shape (n, 2)\n",
    "        Matrix where each row is a 2D vector to plot\n",
    "    figsize : tuple, default (10, 10)\n",
    "        Figure size in inches\n",
    "    arrow_scale : float, default 1.0\n",
    "        Scale factor for arrow length\n",
    "    line_width : float, default 3\n",
    "        Width of the arrow lines\n",
    "    \n",
    "    Returns:\n",
    "    --------\n",
    "    fig, ax : matplotlib figure and axes objects\n",
    "    \"\"\"\n",
    "    \n",
    "    # Convert to numpy array if needed\n",
    "    vectors = np.array(vectors)\n",
    "    n_vectors = vectors.shape[0]\n",
    "    \n",
    "    def generate_vibrant_colors(n):\n",
    "        \"\"\"Generate vibrant colors using HSV color space\"\"\"\n",
    "        colors = []\n",
    "        for i in range(n):\n",
    "            # Use full hue range with high saturation and value for vibrant colors\n",
    "            hue = i / n  # Evenly space hues around the color wheel\n",
    "            saturation = 0.9 + 0.1 * (i % 2)  # Very high saturation (0.9-1.0)\n",
    "            value = 0.8 + 0.2 * ((i // 2) % 2)  # High brightness (0.8-1.0)\n",
    "            rgb = mcolors.hsv_to_rgb([hue, saturation, value])\n",
    "            colors.append(rgb)\n",
    "        return colors\n",
    "    \n",
    "    # Generate vibrant colors\n",
    "    colors = generate_vibrant_colors(n_vectors)\n",
    "    \n",
    "    # Create the plot with white background\n",
    "    fig, ax = plt.subplots(figsize=figsize, facecolor='white')\n",
    "    ax.set_facecolor('white')\n",
    "\n",
    "    # Sort vectors by norm (length) in descending order for plotting\n",
    "    # This ensures shorter vectors are plotted on top of longer ones\n",
    "    vector_norms = np.linalg.norm(vectors, axis=1)\n",
    "    sorted_indices = np.argsort(vector_norms)[::-1]  # Descending order\n",
    "    \n",
    "    # Plot each vector as a line with dot at the end\n",
    "    for idx in sorted_indices:\n",
    "        vector = vectors[idx]\n",
    "        i = idx\n",
    "        # Scale the vector\n",
    "        scaled_vector = vector * arrow_scale\n",
    "        \n",
    "        # Plot line from origin to vector endpoint\n",
    "        ax.plot([0, scaled_vector[0]], [0, scaled_vector[1]], \n",
    "                color=colors[i], linewidth=line_width, alpha=0.9)\n",
    "        \n",
    "        # Plot dot at the end of the vector\n",
    "        ax.scatter(scaled_vector[0], scaled_vector[1], \n",
    "                  s=200, c=[colors[i]], marker='o', \n",
    "                  edgecolors='white', linewidth=2,\n",
    "                  alpha=1, zorder=10)\n",
    "    \n",
    "    # Set the axis properties\n",
    "    ax.set_xlim(-1.2, 1.2)\n",
    "    ax.set_ylim(-1.2, 1.2)\n",
    "    \n",
    "    # Make axes equal and add grid\n",
    "    ax.set_aspect('equal', adjustable='box')\n",
    "    # ax.grid(True, alpha=0.2, color='lightgray', linewidth=3)\n",
    "    \n",
    "    # Add axis lines through origin\n",
    "    ax.axhline(y=0, color='gray', linewidth=2, alpha=0.3)\n",
    "    ax.axvline(x=0, color='gray', linewidth=2, alpha=0.3)\n",
    "    \n",
    "    # Remove ticks and labels for cleaner look\n",
    "    ax.set_xticks([])\n",
    "    ax.set_yticks([])\n",
    "    \n",
    "    # Remove spines for minimal look\n",
    "    for spine in ax.spines.values():\n",
    "        spine.set_visible(False)\n",
    "    \n",
    "    plt.tight_layout()\n",
    "    \n",
    "    return fig, ax"
   ]
  },
  {
   "cell_type": "code",
   "execution_count": null,
   "id": "b3671cdc-07ec-4834-b230-3905490f7d46",
   "metadata": {},
   "outputs": [],
   "source": []
  }
 ],
 "metadata": {
  "kernelspec": {
   "display_name": "Python 3 (ipykernel)",
   "language": "python",
   "name": "python3"
  },
  "language_info": {
   "codemirror_mode": {
    "name": "ipython",
    "version": 3
   },
   "file_extension": ".py",
   "mimetype": "text/x-python",
   "name": "python",
   "nbconvert_exporter": "python",
   "pygments_lexer": "ipython3",
   "version": "3.11.11"
  }
 },
 "nbformat": 4,
 "nbformat_minor": 5
}
